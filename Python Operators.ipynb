{
 "cells": [
  {
   "cell_type": "markdown",
   "id": "0b8a6524-f429-4e49-8017-ca89ba748c3d",
   "metadata": {},
   "source": [
    "                      Python Operators "
   ]
  },
  {
   "cell_type": "markdown",
   "id": "d0efa3f9-9717-46aa-92ad-e6a08decdd9a",
   "metadata": {},
   "source": [
    "1- Calculate the sum, difference, product, and quotient of two numbers."
   ]
  },
  {
   "cell_type": "code",
   "execution_count": 2,
   "id": "54399540-72df-4721-bc7a-d55779a01357",
   "metadata": {},
   "outputs": [
    {
     "name": "stdin",
     "output_type": "stream",
     "text": [
      "Enter first number: 30\n",
      "Enter Second number: 5\n"
     ]
    },
    {
     "name": "stdout",
     "output_type": "stream",
     "text": [
      "The sum of num1 and num2: 35\n",
      "The difference of num1 and num2: 25\n",
      "The product of num1 and num2: 150\n",
      "The quotient of num1 and num2: 6.0\n"
     ]
    }
   ],
   "source": [
    "num1 = int(input(\"Enter first number:\"))\n",
    "num2 = int(input(\"Enter Second number:\"))\n",
    "\n",
    "sum_result = num1 + num2\n",
    "print(\"The sum of num1 and num2:\",sum_result)\n",
    "\n",
    "difference_result = num1 - num2\n",
    "print(\"The difference of num1 and num2:\",difference_result)\n",
    "\n",
    "product_result = num1 * num2\n",
    "print(\"The product of num1 and num2:\",product_result)\n",
    "\n",
    "quotient_result = num1 / num2\n",
    "print(\"The quotient of num1 and num2:\",quotient_result)"
   ]
  },
  {
   "cell_type": "markdown",
   "id": "91bd3a58-64a5-4e53-8143-2f5017b4604c",
   "metadata": {},
   "source": [
    "2- Perform various assignment operations on a variable."
   ]
  },
  {
   "cell_type": "code",
   "execution_count": null,
   "id": "5af5cde8-7a0e-4858-b1e0-b2abdc203aee",
   "metadata": {},
   "outputs": [
    {
     "name": "stdout",
     "output_type": "stream",
     "text": [
      "Addition: 40\n",
      "Subtraction: 30\n",
      "Multiplication: 60\n",
      "Division: 12.0\n",
      "Modulus: 4.0\n",
      "Exponentiation: 16.0\n",
      "Floor Division: 8.0\n"
     ]
    }
   ],
   "source": [
    "x = 35\n",
    "\n",
    "x += 5\n",
    "print(\"Addition:\", x)\n",
    "\n",
    "x -= 10\n",
    "print(\"Subtraction:\", x)\n",
    "\n",
    "x *= 2\n",
    "print(\"Multiplication:\", x)\n",
    "\n",
    "x /= 5\n",
    "print(\"Division:\", x)\n",
    "\n",
    "x %= 8\n",
    "print(\"Modulus:\", x)\n",
    "\n",
    "x **= 2\n",
    "print(\"Exponentiation:\", x)\n",
    "\n",
    "x //= 2\n",
    "print(\"Floor Division:\", x)"
   ]
  },
  {
   "cell_type": "markdown",
   "id": "21a684d2-2737-406b-ad9f-0d65b0e61b4f",
   "metadata": {},
   "source": [
    "3- Compare two numbers and print the results."
   ]
  },
  {
   "cell_type": "code",
   "execution_count": 20,
   "id": "100c25a8-1df3-4f0b-b208-67f2d370b27d",
   "metadata": {},
   "outputs": [
    {
     "name": "stdout",
     "output_type": "stream",
     "text": [
      "num1: 17\n",
      "num2: 32\n",
      "num1 < num2: True\n",
      "num1 > num2: False\n",
      "num1 <= num2: True\n",
      "num1 >= num2: False\n",
      "num1 == num2: False\n",
      "num1 != num2: True\n"
     ]
    }
   ],
   "source": [
    "num1 = 17\n",
    "num2 = 32\n",
    "\n",
    "print(\"num1:\", num1)\n",
    "print(\"num2:\", num2)\n",
    "\n",
    "print(\"num1 < num2:\", num1<num2)\n",
    "print(\"num1 > num2:\", num1>num2)\n",
    "print(\"num1 <= num2:\", num1<=num2)\n",
    "print(\"num1 >= num2:\", num1>=num2)\n",
    "print(\"num1 == num2:\", num1==num2)\n",
    "print(\"num1 != num2:\", num1!=num2)"
   ]
  },
  {
   "cell_type": "markdown",
   "id": "6bc434a5-70de-4aa0-8da8-c205f9d3ad46",
   "metadata": {},
   "source": [
    "4- Check conditions using logical operators."
   ]
  },
  {
   "cell_type": "code",
   "execution_count": 31,
   "id": "5500b51a-e0e4-41dc-90f0-a419fe9f4860",
   "metadata": {},
   "outputs": [
    {
     "name": "stdout",
     "output_type": "stream",
     "text": [
      "Both x and y are greater than 0\n",
      "You get a discount\n",
      "No need for an umbrella!\n"
     ]
    }
   ],
   "source": [
    "x = 7\n",
    "y = 22\n",
    "if x > 0 and y > 0:\n",
    "    print(\"Both x and y are greater than 0\")\n",
    "\n",
    "age = 65\n",
    "if age < 18 or age >= 65:\n",
    "    print(\"You get a discount\")\n",
    "\n",
    "is_raining = False\n",
    "if not is_raining:\n",
    "    print(\"No need for an umbrella!\")"
   ]
  },
  {
   "cell_type": "markdown",
   "id": "1f72e49e-a0ba-4a14-8fd4-7118be011325",
   "metadata": {},
   "source": [
    "5- Check the identity of variables."
   ]
  },
  {
   "cell_type": "code",
   "execution_count": 36,
   "id": "1779dcf2-89fe-47e8-8b52-a8de8fe7847e",
   "metadata": {},
   "outputs": [
    {
     "name": "stdout",
     "output_type": "stream",
     "text": [
      "x and y have the same identity\n"
     ]
    }
   ],
   "source": [
    "x = 15\n",
    "y = 15\n",
    "\n",
    "if x is y:\n",
    "    print(\"x and y have the same identity\")\n",
    "else:\n",
    "    print(\"x and y have the different identity\")"
   ]
  },
  {
   "cell_type": "markdown",
   "id": "d3c9a3c7-9f47-4e35-bcb6-7ba748c3eeb9",
   "metadata": {},
   "source": [
    "6- Perform bitwise operations on any two integers."
   ]
  },
  {
   "cell_type": "code",
   "execution_count": 37,
   "id": "b7ecd384-56d5-4625-8f8d-a4ec1a21d387",
   "metadata": {},
   "outputs": [
    {
     "name": "stdout",
     "output_type": "stream",
     "text": [
      "Bitwise AND: 0\n",
      "Bitwise OR: 28\n",
      "Bitwise XOR: 28\n",
      "Bitwise NOT of a: -21\n",
      "Bitwise Left Shift of a by 2: 80\n",
      "Bitwise Right Shift of a by 2: 5\n"
     ]
    }
   ],
   "source": [
    "a = 20\n",
    "b = 8\n",
    "\n",
    "result_and = a & b\n",
    "print(\"Bitwise AND:\", result_and)\n",
    "\n",
    "result_or = a | b\n",
    "print(\"Bitwise OR:\", result_or)\n",
    "\n",
    "result_xor = a ^ b\n",
    "print(\"Bitwise XOR:\", result_xor)\n",
    "\n",
    "result_not_a = ~a\n",
    "print(\"Bitwise NOT of a:\", result_not_a)\n",
    "\n",
    "result_left_shift = a << 2\n",
    "print(\"Bitwise Left Shift of a by 2:\", result_left_shift)\n",
    "\n",
    "result_right_shift = a >> 2\n",
    "print(\"Bitwise Right Shift of a by 2:\", result_right_shift)"
   ]
  },
  {
   "cell_type": "markdown",
   "id": "c96f1e79-ee96-4e34-bf4c-bd1e55473924",
   "metadata": {},
   "source": [
    "7- Use Unary operators to change the sign of a number."
   ]
  },
  {
   "cell_type": "code",
   "execution_count": 41,
   "id": "eb08c287-848b-4d31-a08b-f6459f7f3f1c",
   "metadata": {},
   "outputs": [
    {
     "name": "stdout",
     "output_type": "stream",
     "text": [
      "Number: 10\n",
      "Number after changing sign: -10\n"
     ]
    }
   ],
   "source": [
    "num = 10\n",
    "print(\"Number:\", num)\n",
    "\n",
    "negative_num = -num\n",
    "print(\"Number after changing sign:\", negative_num)"
   ]
  },
  {
   "cell_type": "markdown",
   "id": "a31589c1-9731-4a0a-9293-eaec35899346",
   "metadata": {},
   "source": [
    "8- Use the ternary operator to assign values based on conditions."
   ]
  },
  {
   "cell_type": "code",
   "execution_count": 43,
   "id": "1ce66253-7ba9-4d23-8b4d-a4b35f8b4fdc",
   "metadata": {},
   "outputs": [
    {
     "name": "stdout",
     "output_type": "stream",
     "text": [
      "Minimum value: 10\n"
     ]
    }
   ],
   "source": [
    "x = 15\n",
    "y = 10\n",
    "\n",
    "min_value = x if x < y else y\n",
    "print(\"Minimum value:\", min_value)"
   ]
  }
 ],
 "metadata": {
  "kernelspec": {
   "display_name": "Python 3 (ipykernel)",
   "language": "python",
   "name": "python3"
  },
  "language_info": {
   "codemirror_mode": {
    "name": "ipython",
    "version": 3
   },
   "file_extension": ".py",
   "mimetype": "text/x-python",
   "name": "python",
   "nbconvert_exporter": "python",
   "pygments_lexer": "ipython3",
   "version": "3.10.8"
  }
 },
 "nbformat": 4,
 "nbformat_minor": 5
}
