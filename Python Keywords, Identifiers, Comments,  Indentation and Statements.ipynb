{
 "cells": [
  {
   "cell_type": "markdown",
   "id": "a38fe1e0-bf16-4641-ad49-3d240be32c3f",
   "metadata": {},
   "source": [
    "Q1- Explain the significance of Python keywords and provide examples of five keywords"
   ]
  },
  {
   "cell_type": "code",
   "execution_count": 10,
   "id": "0b6741cb-31d7-4129-8418-9f861f4cc06d",
   "metadata": {},
   "outputs": [
    {
     "name": "stdout",
     "output_type": "stream",
     "text": [
      "x is greater than 15\n",
      "Apple\n",
      "Mango\n",
      "Banana\n",
      "Orange\n",
      "0\n",
      "1\n",
      "2\n",
      "3\n",
      "4\n",
      "0\n",
      "1\n",
      "2\n",
      "3\n",
      "4\n"
     ]
    }
   ],
   "source": [
    "#'if' 'elif' 'else'\n",
    "x = 15\n",
    "if x > 10:\n",
    "    print(\"x is greater than 15\")\n",
    "elif x == 10:\n",
    "    print(\"x is equal to 10\")\n",
    "else:\n",
    "    print(\"x is less than 10\")\n",
    "    \n",
    "#for\n",
    "fruits = [\"Apple\",\"Mango\",\"Banana\",\"Orange\"]\n",
    "for fruit in fruits:\n",
    "    print(fruit)\n",
    "    \n",
    "#while\n",
    "count = 0\n",
    "while count < 5:\n",
    "    print(count)\n",
    "    count += 1\n",
    "    \n",
    "#break\n",
    "for i in range(10):\n",
    "    if i == 5:\n",
    "        break\n",
    "    print(i)\n",
    "    \n",
    "#pass\n",
    "x = 10\n",
    "if x > 5:\n",
    "    pass\n",
    "else:\n",
    "    print(\"x is less than or equal to 5\")"
   ]
  },
  {
   "cell_type": "markdown",
   "id": "a1fc1f34-19c5-4981-8366-8d34cc8aeefb",
   "metadata": {},
   "source": [
    "Q2- Describe the rules for defining identifiers in Python and provide an example."
   ]
  },
  {
   "cell_type": "markdown",
   "id": "7e6e613d-56e3-4ffc-9939-f73ce3307423",
   "metadata": {},
   "source": [
    "Ans. In Python, identifiers are names used to identify variables, functions, classes, modules, or other objects. Here are the rules for defining identifiers in Python:\n",
    "\n",
    "1. Valid Characters: Identifiers can include letters (both uppercase and lowercase), digits (0-9), and underscore (_).\n",
    "\n",
    "2. Must Start with Letter or Underscore: An identifier must start with a letter (a-z, A-Z) or an underscore (_). It cannot start with a digit.\n",
    "\n",
    "3. Case-sensitive: Python is case-sensitive, so uppercase and lowercase letters are considered different.\n",
    "\n",
    "4. Cannot be a Keyword: Identifiers cannot be a reserved word or keyword used in Python. For example, you cannot name a variable \"if\" or \"def\" because these are keywords used for control structures.\n",
    "\n",
    "5. No Special Characters: Special characters like !, @, #, $, %, etc., are not allowed in identifiers.\n",
    "\n",
    "Here's an example of valid and invalid identifiers:"
   ]
  },
  {
   "cell_type": "code",
   "execution_count": 1,
   "id": "c74fa6b3-49a4-4c29-9604-3b1d711f1030",
   "metadata": {},
   "outputs": [
    {
     "ename": "SyntaxError",
     "evalue": "invalid decimal literal (3163964487.py, line 9)",
     "output_type": "error",
     "traceback": [
      "\u001b[0;36m  Cell \u001b[0;32mIn[1], line 9\u001b[0;36m\u001b[0m\n\u001b[0;31m    2nd_variable = 10  # Cannot start with a digit\u001b[0m\n\u001b[0m    ^\u001b[0m\n\u001b[0;31mSyntaxError\u001b[0m\u001b[0;31m:\u001b[0m invalid decimal literal\n"
     ]
    }
   ],
   "source": [
    "# Valid Identifiers\n",
    "my_variable = 42\n",
    "myVariable = \"Hello\"\n",
    "_my_variable = True\n",
    "MY_VARIABLE = [1, 2, 3]\n",
    "this_is_a_long_identifier = \"Long identifiers are fine\"\n",
    "\n",
    "# Invalid Identifiers\n",
    "2nd_variable = 10  # Cannot start with a digit\n",
    "$special = \"Invalid\"  # Cannot have special characters\n",
    "for = 5  # 'for' is a keyword, so it cannot be used as an identifier\n",
    "my-variable = 3.14  # Hyphens are not allowed"
   ]
  },
  {
   "cell_type": "markdown",
   "id": "5837786d-fa56-4075-b169-8cf9f9c57b3c",
   "metadata": {},
   "source": [
    "Q3- What are comments in Python, and why are they usefull? Provide an example."
   ]
  },
  {
   "cell_type": "markdown",
   "id": "cf6e0cd3-cd93-4f9b-b0be-ca4dee180336",
   "metadata": {},
   "source": [
    "Ans. Comments in Python are lines of text in your code that are not executed when the program runs. They are used to make the code more readable and understandable for other developers (including yourself in the future). Comments are essential for documenting code, explaining its purpose, providing context, or temporarily disabling parts of the code during testing or debugging.\n",
    "\n",
    "Python supports two types of comments:\n",
    "\n",
    "1. Single-line comments: These start with a hash character # and continue to the end of the line. They are typically used for short explanations or comments on a single line.\n",
    "\n",
    "2. Multi-line comments: Python doesn't have a built-in syntax for multi-line comments like some other languages do (such as '/* */' in C or Java). However, developers often use triple quotes \"\"\" \"\"\" or ''' ''' to create multi-line string literals, which can serve as multi-line comments because they are not assigned to any variable and are ignored by the interpreter.\n",
    "\n",
    "Here's an example:"
   ]
  },
  {
   "cell_type": "code",
   "execution_count": 2,
   "id": "9edd6dba-3cc8-4ea4-9298-964503399aa5",
   "metadata": {},
   "outputs": [
    {
     "name": "stdout",
     "output_type": "stream",
     "text": [
      "Hello, World!\n",
      "This line will be executed\n"
     ]
    }
   ],
   "source": [
    "# This is a single-line comment\n",
    "print(\"Hello, World!\")  # This comment explains the next line of code\n",
    "\n",
    "\"\"\"\n",
    "This is a multi-line comment.\n",
    "It spans across multiple lines.\n",
    "These lines are not executed by the Python interpreter.\n",
    "\"\"\"\n",
    "print(\"This line will be executed\")\n"
   ]
  },
  {
   "cell_type": "markdown",
   "id": "841e4728-fab1-4bc6-94e4-b2e1fd9e3cae",
   "metadata": {},
   "source": [
    "Q4- Why is proper indentation important in Python?"
   ]
  },
  {
   "cell_type": "markdown",
   "id": "bce6d807-ce3e-4c4a-882f-97ebce097330",
   "metadata": {},
   "source": [
    "Ans. Proper indentation in Python is important because it:\n",
    "\n",
    "• Defines the structure and scope of the code.\n",
    "\n",
    "• Ensures readability and clarity.\n",
    "\n",
    "• Is required by Python's syntax.\n",
    "\n",
    "• Helps avoid syntax errors.\n",
    "\n",
    "• Makes the code easier to understand and maintain.\n",
    "\n",
    "• Establishes consistency for collaboration.\n",
    "\n",
    "• Determines code blocks like loops and functions."
   ]
  },
  {
   "cell_type": "markdown",
   "id": "f59138c5-75fb-44c6-9817-f1cf355710c6",
   "metadata": {},
   "source": [
    "Q5- What happens if indentation is incorrect in Python?"
   ]
  },
  {
   "cell_type": "markdown",
   "id": "4629d9d5-0efa-4d94-aab6-ef3dab4f0d14",
   "metadata": {},
   "source": [
    "Ans. If indentation is incorrect in Python:\n",
    "\n",
    "• It results in syntax errors.\n",
    "\n",
    "• The code will not run.\n",
    "\n",
    "• Python interpreter will raise an 'IndentationError'.\n",
    "\n",
    "• Incorrectly indented code blocks will not be recognized."
   ]
  },
  {
   "cell_type": "markdown",
   "id": "6656d64f-09df-4f0a-b9a7-f5c156955eb3",
   "metadata": {},
   "source": [
    "Q6- Differentiate Between expression and statement in Python with examples."
   ]
  },
  {
   "cell_type": "markdown",
   "id": "8b668494-3708-407e-8ac8-ff1f74c51d86",
   "metadata": {},
   "source": [
    "Ans. Expression:\n",
    "\n",
    "       Definition: Produces a value.\n",
    "       \n",
    "       Purpose: Computation of values."
   ]
  },
  {
   "cell_type": "code",
   "execution_count": 5,
   "id": "0c3be020-62b8-4ac4-b656-676b6ea9050e",
   "metadata": {},
   "outputs": [],
   "source": [
    "# Examples of expressions\n",
    "x = 10\n",
    "y = 5\n",
    "result = x + y  # This is an expression that produces a value"
   ]
  },
  {
   "cell_type": "markdown",
   "id": "9c944cc1-15ff-4e79-b7b3-b709205bc80a",
   "metadata": {},
   "source": [
    "Statement:\n",
    "\n",
    "    Definition: Performs an action or makes something happen.\n",
    "    \n",
    "    Purpose: Action or control flow."
   ]
  },
  {
   "cell_type": "code",
   "execution_count": 6,
   "id": "88650485-dc29-4511-9bd8-4376db9b08b0",
   "metadata": {},
   "outputs": [
    {
     "name": "stdout",
     "output_type": "stream",
     "text": [
      "Hello, World!\n",
      "x is positive\n"
     ]
    }
   ],
   "source": [
    "# Examples of statements\n",
    "x = 10  # This is a variable assignment statement\n",
    "print(\"Hello, World!\")  # This is a print statement\n",
    "if x > 0:  # This is an if statement\n",
    "    print(\"x is positive\")"
   ]
  },
  {
   "cell_type": "markdown",
   "id": "343966cf-2776-4941-898a-ea31eacc51ac",
   "metadata": {},
   "source": [
    "Differences:\n",
    "   \n",
    "    Result: Expressions produce values, while statements perform actions.\n",
    "    \n",
    "    Usage: Expressions are used within statements, but statements cannot be used within expressions.\n",
    "    \n",
    "    Syntax: Expressions can be part of statements, but statements cannot be part of expressions."
   ]
  },
  {
   "cell_type": "code",
   "execution_count": null,
   "id": "a2ad4351-3b65-46ea-90e0-1d8dbbdda9e2",
   "metadata": {},
   "outputs": [],
   "source": []
  }
 ],
 "metadata": {
  "kernelspec": {
   "display_name": "Python 3 (ipykernel)",
   "language": "python",
   "name": "python3"
  },
  "language_info": {
   "codemirror_mode": {
    "name": "ipython",
    "version": 3
   },
   "file_extension": ".py",
   "mimetype": "text/x-python",
   "name": "python",
   "nbconvert_exporter": "python",
   "pygments_lexer": "ipython3",
   "version": "3.10.8"
  }
 },
 "nbformat": 4,
 "nbformat_minor": 5
}
