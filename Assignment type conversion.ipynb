{
 "cells": [
  {
   "cell_type": "markdown",
   "id": "1159c8c0-fbfe-4bb1-90a8-12ea7b9ecf3c",
   "metadata": {},
   "source": [
    "                                              Assignment: Type Conversion"
   ]
  },
  {
   "cell_type": "markdown",
   "id": "0ef0e635-64de-4f1b-8c18-479aae14f763",
   "metadata": {},
   "source": [
    "1- Convert a integer to a floatig-point number."
   ]
  },
  {
   "cell_type": "code",
   "execution_count": 4,
   "id": "cecc92f5-f629-45a5-83b0-a772b4b3e1a1",
   "metadata": {},
   "outputs": [
    {
     "name": "stdout",
     "output_type": "stream",
     "text": [
      "24.0\n"
     ]
    },
    {
     "data": {
      "text/plain": [
       "float"
      ]
     },
     "execution_count": 4,
     "metadata": {},
     "output_type": "execute_result"
    }
   ],
   "source": [
    "int_num = 24\n",
    "float_num = float(int_num)\n",
    "print(float_num)\n",
    "type(float_num)"
   ]
  },
  {
   "cell_type": "markdown",
   "id": "2160a4e2-553c-492a-8a84-ef8de66806d3",
   "metadata": {},
   "source": [
    "2- Convert a float to a integer."
   ]
  },
  {
   "cell_type": "code",
   "execution_count": 5,
   "id": "fcf62ea8-22cd-4bff-9c5d-d2523cd3803a",
   "metadata": {},
   "outputs": [
    {
     "name": "stdout",
     "output_type": "stream",
     "text": [
      "26\n"
     ]
    },
    {
     "data": {
      "text/plain": [
       "int"
      ]
     },
     "execution_count": 5,
     "metadata": {},
     "output_type": "execute_result"
    }
   ],
   "source": [
    "float_num = 26.6\n",
    "int_num = int(float_num)\n",
    "print(int_num)\n",
    "type(int_num)"
   ]
  },
  {
   "cell_type": "markdown",
   "id": "efe10f28-29d4-4023-a191-8fe3a37bbeb2",
   "metadata": {},
   "source": [
    "3- Convert a integer to a string."
   ]
  },
  {
   "cell_type": "code",
   "execution_count": 8,
   "id": "0782d9f0-cce0-4d80-b0d7-5fb5e5accca6",
   "metadata": {},
   "outputs": [
    {
     "name": "stdout",
     "output_type": "stream",
     "text": [
      "342\n"
     ]
    },
    {
     "data": {
      "text/plain": [
       "str"
      ]
     },
     "execution_count": 8,
     "metadata": {},
     "output_type": "execute_result"
    }
   ],
   "source": [
    "int_num = 342\n",
    "string_num = str(int_num)\n",
    "print(string_num)\n",
    "type(string_num)"
   ]
  },
  {
   "cell_type": "markdown",
   "id": "a6f5128c-2f33-496c-b90c-564de648f376",
   "metadata": {},
   "source": [
    "4- Convert a list to a tuple."
   ]
  },
  {
   "cell_type": "code",
   "execution_count": 11,
   "id": "8cf0850d-c97b-4b09-a2d6-0b28cd5d38b2",
   "metadata": {},
   "outputs": [
    {
     "name": "stdout",
     "output_type": "stream",
     "text": [
      "(1, 2, 3, 4, 5)\n"
     ]
    },
    {
     "data": {
      "text/plain": [
       "tuple"
      ]
     },
     "execution_count": 11,
     "metadata": {},
     "output_type": "execute_result"
    }
   ],
   "source": [
    "list_num = [1, 2, 3, 4, 5]\n",
    "tuple_num = tuple(list_num)\n",
    "print(tuple_num)\n",
    "type(tuple_num)"
   ]
  },
  {
   "cell_type": "markdown",
   "id": "b7d366af-776d-46eb-bc5e-3a7c4ad626a5",
   "metadata": {},
   "source": [
    "5- Convert a tuple to a list."
   ]
  },
  {
   "cell_type": "code",
   "execution_count": 13,
   "id": "4e73c5ff-2994-4bd6-9038-f3bb662b3d7c",
   "metadata": {},
   "outputs": [
    {
     "name": "stdout",
     "output_type": "stream",
     "text": [
      "[9, 8, 7, 6, 5]\n"
     ]
    },
    {
     "data": {
      "text/plain": [
       "list"
      ]
     },
     "execution_count": 13,
     "metadata": {},
     "output_type": "execute_result"
    }
   ],
   "source": [
    "tuple_num = (9, 8, 7, 6, 5)\n",
    "list_num = list(tuple_num)\n",
    "print(list_num)\n",
    "type(list_num)"
   ]
  },
  {
   "cell_type": "markdown",
   "id": "9d2a0730-670a-4ec3-97be-30f008a84a01",
   "metadata": {},
   "source": [
    "6- Convert a decimal number to binary."
   ]
  },
  {
   "cell_type": "code",
   "execution_count": 19,
   "id": "89595024-a107-449c-ac2d-5c579baf8c21",
   "metadata": {},
   "outputs": [
    {
     "name": "stdout",
     "output_type": "stream",
     "text": [
      "111001\n"
     ]
    }
   ],
   "source": [
    "decimal_num = 57\n",
    "binary_num = bin(decimal_num)[2:]\n",
    "print(binary_num)"
   ]
  },
  {
   "cell_type": "markdown",
   "id": "d00f5bb8-3dd7-4c65-ab76-0f8121015187",
   "metadata": {},
   "source": [
    "7- Convert a non-zero number to boolean."
   ]
  },
  {
   "cell_type": "code",
   "execution_count": 22,
   "id": "d652e1e2-9a82-4a81-9d20-b64dfd7f1c18",
   "metadata": {},
   "outputs": [
    {
     "name": "stdout",
     "output_type": "stream",
     "text": [
      "True\n"
     ]
    }
   ],
   "source": [
    "non_zero_num = 55\n",
    "bool_num = bool(non_zero_num)\n",
    "print(bool_num)"
   ]
  }
 ],
 "metadata": {
  "kernelspec": {
   "display_name": "Python 3 (ipykernel)",
   "language": "python",
   "name": "python3"
  },
  "language_info": {
   "codemirror_mode": {
    "name": "ipython",
    "version": 3
   },
   "file_extension": ".py",
   "mimetype": "text/x-python",
   "name": "python",
   "nbconvert_exporter": "python",
   "pygments_lexer": "ipython3",
   "version": "3.11.4"
  }
 },
 "nbformat": 4,
 "nbformat_minor": 5
}
