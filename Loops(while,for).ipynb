{
 "cells": [
  {
   "cell_type": "markdown",
   "id": "8f588dea-2b5f-45f9-9522-6a7f800ad1e0",
   "metadata": {},
   "source": [
    "1- Print number from 1 to 5 using a while loop."
   ]
  },
  {
   "cell_type": "code",
   "execution_count": 3,
   "id": "69eba5ba-20ee-4ddf-8b93-b394a65b31a5",
   "metadata": {},
   "outputs": [
    {
     "name": "stdout",
     "output_type": "stream",
     "text": [
      "1\n",
      "2\n",
      "3\n",
      "4\n",
      "5\n"
     ]
    }
   ],
   "source": [
    "num = 1\n",
    "\n",
    "while num <= 5:\n",
    "    print(num)\n",
    "    num += 1"
   ]
  },
  {
   "cell_type": "markdown",
   "id": "94346c07-c5c0-4d6f-a4f5-51c1b74ac2ac",
   "metadata": {},
   "source": [
    "2- Calculate the sum of number from 1 to 10 using a while loop."
   ]
  },
  {
   "cell_type": "code",
   "execution_count": 6,
   "id": "8c15641f-a0cb-4c15-bee4-a2687902b643",
   "metadata": {},
   "outputs": [
    {
     "name": "stdout",
     "output_type": "stream",
     "text": [
      "The sum of numbers from 1 to 10 is: 55\n"
     ]
    }
   ],
   "source": [
    "num = 1\n",
    "total = 0\n",
    "\n",
    "while num <= 10:\n",
    "    total += num\n",
    "    num += 1\n",
    "    \n",
    "print(\"The sum of numbers from 1 to 10 is:\" , total)"
   ]
  },
  {
   "cell_type": "markdown",
   "id": "251850eb-2deb-4ae7-993e-fff751ea90b8",
   "metadata": {},
   "source": [
    "3- Calculate the factorial of a number using a for loop."
   ]
  },
  {
   "cell_type": "code",
   "execution_count": 13,
   "id": "3ea13ca4-3391-4605-a324-9707e07ba1b0",
   "metadata": {},
   "outputs": [
    {
     "name": "stdin",
     "output_type": "stream",
     "text": [
      "Enter a number: 7\n"
     ]
    },
    {
     "name": "stdout",
     "output_type": "stream",
     "text": [
      "Factorial of 7 is: 5040\n"
     ]
    }
   ],
   "source": [
    "num = int(input(\"Enter a number:\"))\n",
    "factorial = 1\n",
    "\n",
    "for i in range(1, num + 1):\n",
    "    factorial *= i\n",
    "    \n",
    "print(\"Factorial of\", num , \"is:\", factorial)"
   ]
  },
  {
   "cell_type": "markdown",
   "id": "9ac5e6d0-6981-4434-a0e2-24d7c9b78fc8",
   "metadata": {},
   "source": [
    "4- Count the number of vowels in a string using a for loop."
   ]
  },
  {
   "cell_type": "code",
   "execution_count": 16,
   "id": "b3f930b5-85cc-4871-83d5-238147bca579",
   "metadata": {},
   "outputs": [
    {
     "name": "stdout",
     "output_type": "stream",
     "text": [
      "Number of vowels: 6\n"
     ]
    }
   ],
   "source": [
    "s = \"Hey, My name is Jatin\"\n",
    "s = s.lower()\n",
    "\n",
    "v_count = 0\n",
    "vowels = \"aeiou\"\n",
    "for char in s:\n",
    "    if char in vowels:\n",
    "        v_count += 1\n",
    "        \n",
    "print(\"Number of vowels:\", v_count)"
   ]
  },
  {
   "cell_type": "markdown",
   "id": "299da5a0-7944-432e-b77b-7a0b115ba4ab",
   "metadata": {},
   "source": [
    "5- Print a pattern using nested loop."
   ]
  },
  {
   "cell_type": "code",
   "execution_count": 17,
   "id": "c4faed87-23e8-4999-84f3-3376472678b7",
   "metadata": {},
   "outputs": [
    {
     "name": "stdout",
     "output_type": "stream",
     "text": [
      "*\n",
      "**\n",
      "***\n",
      "****\n",
      "*****\n"
     ]
    }
   ],
   "source": [
    "num_row = 5\n",
    "\n",
    "for i in range(1, num_row+1):\n",
    "    for j in range(1, i+1):\n",
    "        print(\"*\", end = \"\")\n",
    "    print()"
   ]
  },
  {
   "cell_type": "markdown",
   "id": "4a4cd4e3-dd1e-445a-953f-c18058fcdfc6",
   "metadata": {},
   "source": [
    "6- Generate a multiplication table using nested loop."
   ]
  },
  {
   "cell_type": "code",
   "execution_count": 22,
   "id": "94d99242-1d28-4d9d-9090-58f0947753e3",
   "metadata": {},
   "outputs": [
    {
     "name": "stdout",
     "output_type": "stream",
     "text": [
      "8 x 1 = 8\n",
      "8 x 2 = 16\n",
      "8 x 3 = 24\n",
      "8 x 4 = 32\n",
      "8 x 5 = 40\n",
      "8 x 6 = 48\n",
      "8 x 7 = 56\n",
      "8 x 8 = 64\n",
      "8 x 9 = 72\n",
      "8 x 10 = 80\n"
     ]
    }
   ],
   "source": [
    "num = 8\n",
    "\n",
    "for i in range(1, 11):\n",
    "    for j in range(1, 2):\n",
    "        result = num * i\n",
    "        print(num, \"x\", i, \"=\", result)"
   ]
  }
 ],
 "metadata": {
  "kernelspec": {
   "display_name": "Python 3 (ipykernel)",
   "language": "python",
   "name": "python3"
  },
  "language_info": {
   "codemirror_mode": {
    "name": "ipython",
    "version": 3
   },
   "file_extension": ".py",
   "mimetype": "text/x-python",
   "name": "python",
   "nbconvert_exporter": "python",
   "pygments_lexer": "ipython3",
   "version": "3.10.8"
  }
 },
 "nbformat": 4,
 "nbformat_minor": 5
}
